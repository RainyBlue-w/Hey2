{
 "cells": [
  {
   "cell_type": "markdown",
   "id": "29312c2f-a793-4f53-87d3-690d52baf3ff",
   "metadata": {
    "jp-MarkdownHeadingCollapsed": true
   },
   "source": [
    "## Env"
   ]
  },
  {
   "cell_type": "code",
   "execution_count": 1,
   "id": "12522dd1-b6d3-4956-a97b-b4bb36db4d3e",
   "metadata": {
    "scrolled": true
   },
   "outputs": [
    {
     "name": "stderr",
     "output_type": "stream",
     "text": [
      "\n",
      "Attaching package: ‘dplyr’\n",
      "\n",
      "\n",
      "The following objects are masked from ‘package:stats’:\n",
      "\n",
      "    filter, lag\n",
      "\n",
      "\n",
      "The following objects are masked from ‘package:base’:\n",
      "\n",
      "    intersect, setdiff, setequal, union\n",
      "\n",
      "\n",
      "\n",
      "Attaching package: ‘cowplot’\n",
      "\n",
      "\n",
      "The following object is masked from ‘package:ggthemes’:\n",
      "\n",
      "    theme_map\n",
      "\n",
      "\n",
      "The following object is masked from ‘package:ggpubr’:\n",
      "\n",
      "    get_legend\n",
      "\n",
      "\n",
      "\n",
      "Attaching package: ‘patchwork’\n",
      "\n",
      "\n",
      "The following object is masked from ‘package:cowplot’:\n",
      "\n",
      "    align_plots\n",
      "\n",
      "\n",
      "\u001b[90mggtree v3.10.0 For help: https://yulab-smu.top/treedata-book/\n",
      "\n",
      "If you use the ggtree package suite in published research, please cite\n",
      "the appropriate paper(s):\n",
      "\n",
      "Guangchuang Yu, David Smith, Huachen Zhu, Yi Guan, Tommy Tsan-Yuk Lam.\n",
      "ggtree: an R package for visualization and annotation of phylogenetic\n",
      "trees with their covariates and other associated data. Methods in\n",
      "Ecology and Evolution. 2017, 8(1):28-36. doi:10.1111/2041-210X.12628\n",
      "\n",
      "Guangchuang Yu, Tommy Tsan-Yuk Lam, Huachen Zhu, Yi Guan. Two methods\n",
      "for mapping and visualizing associated data on phylogeny using ggtree.\n",
      "Molecular Biology and Evolution. 2018, 35(12):3041-3043.\n",
      "doi:10.1093/molbev/msy194\n",
      "\n",
      "Shuangbin Xu, Lin Li, Xiao Luo, Meijun Chen, Wenli Tang, Li Zhan, Zehan\n",
      "Dai, Tommy T. Lam, Yi Guan, Guangchuang Yu. Ggtree: A serialized data\n",
      "object for visualization of a phylogenetic tree and annotation data.\n",
      "iMeta 2022, 1(4):e56. doi:10.1002/imt2.56 \u001b[39m\n",
      "\n",
      "\n",
      "Attaching package: ‘ggtree’\n",
      "\n",
      "\n",
      "The following object is masked from ‘package:ggpubr’:\n",
      "\n",
      "    rotate\n",
      "\n",
      "\n",
      "The following object is masked from ‘package:magrittr’:\n",
      "\n",
      "    inset\n",
      "\n",
      "\n",
      "Loading required package: stats4\n",
      "\n",
      "Loading required package: BiocGenerics\n",
      "\n",
      "\n",
      "Attaching package: ‘BiocGenerics’\n",
      "\n",
      "\n",
      "The following objects are masked from ‘package:dplyr’:\n",
      "\n",
      "    combine, intersect, setdiff, union\n",
      "\n",
      "\n",
      "The following objects are masked from ‘package:stats’:\n",
      "\n",
      "    IQR, mad, sd, var, xtabs\n",
      "\n",
      "\n",
      "The following objects are masked from ‘package:base’:\n",
      "\n",
      "    anyDuplicated, aperm, append, as.data.frame, basename, cbind,\n",
      "    colnames, dirname, do.call, duplicated, eval, evalq, Filter, Find,\n",
      "    get, grep, grepl, intersect, is.unsorted, lapply, Map, mapply,\n",
      "    match, mget, order, paste, pmax, pmax.int, pmin, pmin.int,\n",
      "    Position, rank, rbind, Reduce, rownames, sapply, setdiff, sort,\n",
      "    table, tapply, union, unique, unsplit, which.max, which.min\n",
      "\n",
      "\n",
      "Loading required package: S4Vectors\n",
      "\n",
      "\n",
      "Attaching package: ‘S4Vectors’\n",
      "\n",
      "\n",
      "The following object is masked from ‘package:ggtree’:\n",
      "\n",
      "    expand\n",
      "\n",
      "\n",
      "The following objects are masked from ‘package:dplyr’:\n",
      "\n",
      "    first, rename\n",
      "\n",
      "\n",
      "The following object is masked from ‘package:utils’:\n",
      "\n",
      "    findMatches\n",
      "\n",
      "\n",
      "The following objects are masked from ‘package:base’:\n",
      "\n",
      "    expand.grid, I, unname\n",
      "\n",
      "\n",
      "Loading required package: IRanges\n",
      "\n",
      "\n",
      "Attaching package: ‘IRanges’\n",
      "\n",
      "\n",
      "The following object is masked from ‘package:glue’:\n",
      "\n",
      "    trim\n",
      "\n",
      "\n",
      "The following object is masked from ‘package:ggtree’:\n",
      "\n",
      "    collapse\n",
      "\n",
      "\n",
      "The following objects are masked from ‘package:dplyr’:\n",
      "\n",
      "    collapse, desc, slice\n",
      "\n",
      "\n",
      "Loading required package: GenomeInfoDb\n",
      "\n",
      "\n",
      "Attaching package: ‘GenomicRanges’\n",
      "\n",
      "\n",
      "The following object is masked from ‘package:magrittr’:\n",
      "\n",
      "    subtract\n",
      "\n",
      "\n"
     ]
    }
   ],
   "source": [
    "library(dplyr)\n",
    "library(reshape2)\n",
    "library(stringr)\n",
    "library(magrittr)\n",
    "\n",
    "library(ggplot2)\n",
    "library(ggpubr)\n",
    "library(ggplot2)\n",
    "library(ggrepel)\n",
    "library(ggpubr)\n",
    "library(ggthemes)\n",
    "library(ggsci)\n",
    "library(ggtext)\n",
    "library(cowplot)\n",
    "library(patchwork)\n",
    "library(ggsignif)\n",
    "library(RColorBrewer)\n",
    "library(ggtree)\n",
    "library(ggExtra)\n",
    "library(aplot)\n",
    "library(glue)\n",
    "library(ggnewscale)\n",
    "library(ggcorrplot)\n",
    "library(scales)\n",
    "library(latex2exp)\n",
    "\n",
    "library(GenomicRanges)\n",
    "\n",
    "library(future)\n",
    "library(furrr)"
   ]
  },
  {
   "cell_type": "code",
   "execution_count": 2,
   "id": "f428abc5-29af-4db4-8114-7a96421fb143",
   "metadata": {},
   "outputs": [],
   "source": [
    "figsize <- function(w,h){\n",
    "  options(repr.plot.width=w, repr.plot.height=h)\n",
    "}"
   ]
  },
  {
   "cell_type": "markdown",
   "id": "3422b0ea-9c8a-46f3-ac66-572ea9d36ed6",
   "metadata": {},
   "source": [
    "## NRVM: ATAC, Hey2-KD vs. Hey2-NC"
   ]
  },
  {
   "cell_type": "markdown",
   "id": "739c37c4-6b2b-4224-a0fa-ff6b4ed8f363",
   "metadata": {},
   "source": [
    "- peak regions\n",
    "\n",
    "```bash\n",
    "mkdir -p /rad/wuc/project/Hey2_review/240716_ATAC_NRVM/signal_pk-npk/\n",
    "\n",
    "multiBigwigSummary BED-file -p 48 \\\n",
    "--bwfiles /rad/wuc/project/Hey2_review/240607_ATAC/result/03.align/bw/KD*.bw \\\n",
    "    /rad/wuc/project/Hey2_review/240607_ATAC/result/03.align/bw/NC*.bw \\\n",
    "--BED /rad/wuc/project/Hey2_review/240704_2/result/04.callpeak/Hey2-CTL/Hey2-CTL_peaks.narrowPeak \\\n",
    "--outFileName /rad/wuc/project/Hey2_review/240716_ATAC_NRVM/signal_pk-npk/Hey2_KD-NC_ATAC_hey2Peaks.npz \\\n",
    "--outRawCounts /rad/wuc/project/Hey2_review/240716_ATAC_NRVM/signal_pk-npk/Hey2_KD-NC_ATAC_hey2Peaks.tab\n",
    "```"
   ]
  },
  {
   "cell_type": "markdown",
   "id": "4980fc46-79b5-4e60-9635-620639f9399b",
   "metadata": {},
   "source": [
    "- non-peak bins\n",
    "\n",
    "```bash\n",
    "multiBigwigSummary bins -p 48 \\\n",
    "--bwfiles /rad/wuc/project/Hey2_review/240607_ATAC/result/03.align/bw/KD*.bw \\\n",
    "    /rad/wuc/project/Hey2_review/240607_ATAC/result/03.align/bw/NC*.bw \\\n",
    "--outFileName /rad/wuc/project/Hey2_review/240716_ATAC_NRVM/signal_pk-npk/Hey2_KD-NC_ATAC_genomeBins.npz \\\n",
    "--outRawCounts /rad/wuc/project/Hey2_review/240716_ATAC_NRVM/signal_pk-npk/Hey2_KD-NC_ATAC_genomeBins.tab \\\n",
    "-bs 500\n",
    "```"
   ]
  },
  {
   "cell_type": "markdown",
   "id": "b0edabab-61ed-4547-babe-1ad6a80c2e16",
   "metadata": {},
   "source": [
    "### read bw-summary results"
   ]
  },
  {
   "cell_type": "markdown",
   "id": "65d1c03c-d31f-47a3-92e1-c356b70ae205",
   "metadata": {},
   "source": [
    "- bins"
   ]
  },
  {
   "cell_type": "code",
   "execution_count": null,
   "id": "db2cda33-2fd1-46c0-b975-6ca0971b776f",
   "metadata": {},
   "outputs": [],
   "source": [
    "mtx_bs500 <- read.table('/rad/wuc/project/Hey2_review/240716_ATAC_NRVM/signal_pk-npk/Hey2_KD-NC_ATAC_genomeBins.tab')\n",
    "colnames(mtx_bs500) <- c('chr', 'start', 'end', 'KD1', 'KD2', 'KD_mean', 'NC1', 'NC2', 'NC_mean')\n",
    "mtx_bs500 = mtx_bs500[,c(-6,-9)]\n",
    "mtx_bs500 %>% head"
   ]
  },
  {
   "cell_type": "code",
   "execution_count": null,
   "id": "8b695f0c-25d3-4b4c-981c-42b1daddedbd",
   "metadata": {},
   "outputs": [],
   "source": [
    "# filter genomeBins\n",
    "mtx_bs500_filt <- mtx_bs500[rowSums(mtx_bs500[,-1:-3])>0,] # rowSums > 0 \n",
    "mtx_bs500_filt_GR <- mtx_bs500_filt %$% GRanges( # convert to GRanges\n",
    "  seqnames=chr, \n",
    "  ranges=IRanges(start=start, end=end), \n",
    "  NC1=NC1, NC2=NC2, KD1=KD1, KD2=KD2\n",
    ")\n",
    "print(paste0('before:', mtx_bs500_filt_GR %>% length))\n",
    "mtx_bs500_filt_GR %<>% {.[grepl('chr[^_]+$' ,seqnames(.))]}\n",
    "print(paste0('-chr:', mtx_bs500_filt_GR %>% length))\n",
    "seqlevels(mtx_bs500_filt_GR) = unique(as.vector( seqnames(mtx_bs500_filt_GR) ))\n",
    "to_drop = findOverlaps(query=mtx_bs500_filt_GR, subject=Hey2_peaks) %>% queryHits # drop out genomeBins that overlap with Hey2-peaks\n",
    "mtx_bs500_filt_GR %<>% .[-to_drop,]\n",
    "print(paste0('-overlapp:', mtx_bs500_filt_GR %>% length))\n",
    "mtx_bs500_filt_GR_sample = mtx_bs500_filt_GR %>% {.[sample(length(.), 21500)]}"
   ]
  },
  {
   "cell_type": "markdown",
   "id": "857a1168-9a83-44a2-983e-5dbcd5460c2c",
   "metadata": {},
   "source": [
    "- BED-file"
   ]
  },
  {
   "cell_type": "code",
   "execution_count": null,
   "id": "410f22f2-0f66-4481-acd2-7c9c3c0f7398",
   "metadata": {},
   "outputs": [],
   "source": [
    "mtx_hey2Peaks <- read.table('/rad/wuc/project/Hey2_review/240716_ATAC_NRVM/signal_pk-npk/Hey2_KD-NC_ATAC_hey2Peaks.tab')\n",
    "colnames(mtx_hey2Peaks) <- c('chr', 'start', 'end', 'KD1', 'KD2', 'KD_mean', 'NC1', 'NC2', 'NC_mean')\n",
    "mtx_hey2Peaks_GR <- mtx_hey2Peaks %$% \n",
    "        GRanges(seqnames=chr, ranges=IRanges(start=start, end=end), \n",
    "                NC1=NC1, NC2=NC2, KD1=KD1, KD2=KD2)\n",
    "print(paste0('before:', mtx_hey2Peaks_GR %>% length))\n",
    "mtx_hey2Peaks_GR %<>% {.[grepl('chr[^_]+$' ,seqnames(.))]}\n",
    "print(paste0('-chr:', mtx_hey2Peaks_GR %>% length))"
   ]
  },
  {
   "cell_type": "markdown",
   "id": "6afead2c-96b1-4c5c-934f-532b28a29f15",
   "metadata": {},
   "source": [
    "- Peaks"
   ]
  },
  {
   "cell_type": "code",
   "execution_count": null,
   "id": "b4b6f49e-e6ff-4c0a-bf6f-2b3e3fd10b62",
   "metadata": {},
   "outputs": [],
   "source": [
    "# read Hey2-cutTag-peaks\n",
    "Hey2_peaks <- read.table('/rad/wuc/project/Hey2_review/240704_2/result/04.callpeak/Hey2-CTL/Hey2-CTL_peaks.narrowPeak') %>% \n",
    "                .[,1:3] %>% `colnames<-`(c('seqnames', 'start', 'end')) %>% GRanges\n",
    "print(paste0('before:', Hey2_peaks %>% length))\n",
    "Hey2_peaks <- Hey2_peaks[ grepl('chr[^_M]+$', seqnames(Hey2_peaks)) ]\n",
    "print(paste0('after:', Hey2_peaks %>% length))\n",
    "seqlevels(Hey2_peaks) = unique(as.vector( seqnames(Hey2_peaks) ))"
   ]
  },
  {
   "cell_type": "markdown",
   "id": "3ef8ebd4-ed45-4278-89d1-d674a8cd5953",
   "metadata": {
    "jp-MarkdownHeadingCollapsed": true
   },
   "source": [
    "### prepare dataframe"
   ]
  },
  {
   "cell_type": "code",
   "execution_count": null,
   "id": "1109bf7d-53b7-490c-af2e-3b7a39fc96bc",
   "metadata": {},
   "outputs": [],
   "source": [
    "# melt dataframe\n",
    "df_nopeak <- data.frame(\n",
    "  NC = (mtx_bs500_filt_GR_sample$NC1 + mtx_bs500_filt_GR_sample$NC2)/2,\n",
    "  KD = (mtx_bs500_filt_GR_sample$KD1 + mtx_bs500_filt_GR_sample$KD2)/2\n",
    ")\n",
    "df_nopeak %<>% melt(value.name = 'rpkm')\n",
    "colnames(df_nopeak) <- c('group', 'rpkm')\n",
    "df_nopeak %>% head"
   ]
  },
  {
   "cell_type": "code",
   "execution_count": null,
   "id": "0b353051-f073-4d88-a7ef-a377593e7cb8",
   "metadata": {},
   "outputs": [],
   "source": [
    "df_peaks <- data.frame(\n",
    "  NC = (mtx_hey2Peaks_GR$NC1 + mtx_hey2Peaks_GR$NC2)/2,\n",
    "  KD = (mtx_hey2Peaks_GR$KD1 + mtx_hey2Peaks_GR$KD2)/2\n",
    ")\n",
    "df_peaks %<>% melt(value.name = 'rpkm')\n",
    "colnames(df_peaks) <- c('group', 'rpkm')\n",
    "df_peaks %>% head"
   ]
  },
  {
   "cell_type": "code",
   "execution_count": null,
   "id": "3583fb49-a42c-4e93-b145-958776ba8e93",
   "metadata": {},
   "outputs": [],
   "source": [
    "df_peaks$region = 'peaks'\n",
    "df_nopeak$region = 'Non-peaks'\n",
    "df_plot <- rbind(df_peaks, df_nopeak)\n",
    "df_plot$region %<>% factor(levels = c('Non-peaks', 'peaks'))\n",
    "df_plot$rpkm_log = log10(df_plot$rpkm+1) # log10 rpkm+1"
   ]
  },
  {
   "cell_type": "code",
   "execution_count": null,
   "id": "38fb8ab7-532b-4c23-ab48-b72c8d7423a9",
   "metadata": {},
   "outputs": [],
   "source": [
    "df_plot %>% summary"
   ]
  },
  {
   "cell_type": "markdown",
   "id": "00bde5a8-a0fe-48f8-b786-429f7ece6358",
   "metadata": {},
   "source": [
    "### plot"
   ]
  },
  {
   "cell_type": "code",
   "execution_count": null,
   "id": "9b8c44cf-0f44-4c6e-9de3-75e67ae3d416",
   "metadata": {},
   "outputs": [],
   "source": [
    "figsize(4,4)\n",
    "p1<- ggplot(df_plot, mapping=aes(x=region, y=rpkm_log, fill=group)) + \n",
    "  geom_boxplot(position = position_dodge(0.6), width=0.5, outlier.shape=NA)+\n",
    "  scale_fill_manual(values = c(\"#56B4E9\", \"#E69F00\"))+ \n",
    "  # stat_compare_means(\n",
    "  #   mapping=aes(group=group), \n",
    "  #   method = \"wilcox.test\", \n",
    "  #   label = \"p.format\",\n",
    "  #   size = 4\n",
    "  # ) +\n",
    "  theme_bw()+ #背景变为白色\n",
    "  theme(axis.text.x=element_text(colour=\"black\",size=14), \n",
    "        axis.text.y=element_text(size=14,face=\"plain\"), \n",
    "        axis.title.y=element_text(size = 16,face=\"plain\"), \n",
    "        panel.border = element_blank(),\n",
    "        axis.line = element_line(colour = \"black\",linewidth=0.5), \n",
    "        legend.text=element_text(face=\"italic\",  colour=\"black\", \n",
    "                                 size=14),\n",
    "        legend.title=element_blank(),\n",
    "        panel.grid.major = element_blank(),   \n",
    "        panel.grid.minor = element_blank())+  \n",
    "  ylab(TeX(\"$ATAC~signal~~log_{10}(RPKM+1)$\"))+ xlab(\"\")\n",
    "p1"
   ]
  },
  {
   "cell_type": "code",
   "execution_count": null,
   "id": "2d9ca035-e789-44d9-99eb-bca7a3ba7c5f",
   "metadata": {},
   "outputs": [],
   "source": [
    "svg('NRVM_ATAC_KD-NC.svg', width=4, height=4)\n",
    "p1\n",
    "dev.off()\n",
    "df_plot %>% write.csv('NRVM_ATAC_KD-NC.csv', row.names=FALSE)"
   ]
  },
  {
   "cell_type": "markdown",
   "id": "2049a711-b7c0-421b-97d4-c2a5256a50e8",
   "metadata": {},
   "source": [
    "### significance"
   ]
  },
  {
   "cell_type": "code",
   "execution_count": null,
   "id": "8da2ee92-4d94-4ddf-b7ba-d120493b857a",
   "metadata": {},
   "outputs": [],
   "source": [
    "df_peaks <- data.frame(\n",
    "  NC = (mtx_hey2Peaks_GR$NC1 + mtx_hey2Peaks_GR$NC2)/2,\n",
    "  KD = (mtx_hey2Peaks_GR$KD1 + mtx_hey2Peaks_GR$KD2)/2\n",
    ")\n",
    "# lg rpkm+1\n",
    "df_peaks$NC = log10(df_peaks$NC+1)\n",
    "df_peaks$KD = log10(df_peaks$KD+1)"
   ]
  },
  {
   "cell_type": "code",
   "execution_count": null,
   "id": "519b0bc9-dfb9-4dd7-81f2-5f9bc80b161c",
   "metadata": {
    "jupyter": {
     "source_hidden": true
    }
   },
   "outputs": [],
   "source": [
    "df_notpeaks <- data.frame(\n",
    "  NC = (mtx_bs500_filt_GR_sample$NC1 + mtx_bs500_filt_GR_sample$NC2)/2,\n",
    "  KD = (mtx_bs500_filt_GR_sample$KD1 + mtx_bs500_filt_GR_sample$KD2)/2\n",
    ")\n",
    "# lg rpkm+1\n",
    "df_notpeaks$NC = log10(df_notpeaks$NC+1)\n",
    "df_notpeaks$KD = log10(df_notpeaks$KD+1)"
   ]
  },
  {
   "cell_type": "code",
   "execution_count": null,
   "id": "79a5a632-10a9-41e1-83db-f4ca15b06a65",
   "metadata": {},
   "outputs": [],
   "source": [
    "figsize(8,4)\n",
    "p <- ggarrange(\n",
    "  gghistogram(df_peaks$KD - df_peaks$NC, bins=50),\n",
    "  ggqqplot(df_peaks$KD-df_peaks$NC)\n",
    ")\n",
    "annotate_figure(\n",
    "  p, top = text_grob(\"peak-region NRVM KD-NC\", \n",
    "  face = \"bold\", size = 14)\n",
    ")\n",
    "shapiro.test(  (df_peaks$KD - df_peaks$NC) %>% sample(5000) ) %T>% {print(.$p.value)}\n",
    "wilcox.test(df_peaks$KD, df_peaks$NC, paired=T) %T>% {print(.$p.value)}"
   ]
  },
  {
   "cell_type": "code",
   "execution_count": null,
   "id": "f6d18a97-5763-4d8e-88cd-b7de852c1ff0",
   "metadata": {},
   "outputs": [],
   "source": [
    "figsize(8,4)\n",
    "p <- ggarrange(\n",
    "  gghistogram(df_notpeaks$KD - df_notpeaks$NC, bins=50),\n",
    "  ggqqplot(df_notpeaks$KD-df_notpeaks$NC)\n",
    ")\n",
    "annotate_figure(\n",
    "  p, top = text_grob(\"notpeak-regions NRVM KD-NC\", \n",
    "  face = \"bold\", size = 14)\n",
    ")\n",
    "shapiro.test(  (df_notpeaks$KD - df_notpeaks$NC) %>% sample(5000) ) %T>% {print(.$p.value)}\n",
    "wilcox.test(df_notpeaks$KD, df_notpeaks$NC, paired=T) %T>% {print(.$p.value)}"
   ]
  },
  {
   "cell_type": "code",
   "execution_count": null,
   "id": "0ca846ae-f591-4bba-8a07-9dfcfd41c333",
   "metadata": {},
   "outputs": [],
   "source": [
    "test = wilcox.test(df_peaks$CTL, df_peaks$OE, paired=T)\n",
    "test\n",
    "test$p.value"
   ]
  },
  {
   "attachments": {},
   "cell_type": "markdown",
   "id": "f20c81cd-7e09-41f5-b351-59e4ea48ecaf",
   "metadata": {},
   "source": [
    "## Zebrafish: ATAC, Hey2-OE vs. Hey2-CTL"
   ]
  },
  {
   "cell_type": "markdown",
   "id": "2b2fa3ac-2808-497d-b277-8a3dcde2c7b4",
   "metadata": {},
   "source": [
    "- non-peak bins\n",
    "\n",
    "```bash\n",
    "multiBigwigSummary bins -p 48 \\\n",
    "--bwfiles /rad/wuc/project/Hey2_review/ATAC_zebrafish/ATAC_bw/*.bw \\\n",
    "--outFileName /rad/wuc/project/Hey2_review/ATAC_zebrafish/bins/Hey2OE_atac_bs500.npz \\\n",
    "--outRawCounts /rad/wuc/project/Hey2_review/ATAC_zebrafish/bins/Hey2OE_atac_bs500.tab \\\n",
    "-bs 500\n",
    "```"
   ]
  },
  {
   "cell_type": "markdown",
   "id": "86cf502c-1e52-4a50-8f2e-f11de61661c7",
   "metadata": {},
   "source": [
    "### data"
   ]
  },
  {
   "cell_type": "code",
   "execution_count": null,
   "id": "b8a54bc1-ef02-4431-b432-38b04aff9740",
   "metadata": {},
   "outputs": [],
   "source": [
    "mtx_bs500 <- read.table('/rad/wuc/project/Hey2_review/ATAC_zebrafish/bins/Hey2OE_atac_bs500.tab')"
   ]
  },
  {
   "cell_type": "code",
   "execution_count": null,
   "id": "c3fd506a-41ad-408a-93e8-2b24e6250dd6",
   "metadata": {},
   "outputs": [],
   "source": [
    "colnames(mtx_bs500) <- c('chr', 'start', 'end', 'CTL1', 'CTL2', 'OE1', 'OE2')"
   ]
  },
  {
   "cell_type": "code",
   "execution_count": null,
   "id": "4206ad5f-31d0-40ff-8a82-73f98bed88dc",
   "metadata": {},
   "outputs": [],
   "source": [
    "mtx_bs500 %>% head"
   ]
  },
  {
   "cell_type": "code",
   "execution_count": null,
   "id": "cb53e15e-3322-435c-8152-6c5d41b25e43",
   "metadata": {},
   "outputs": [],
   "source": [
    "Hey2_peaks <- read.table('/rad/wuc/project/Hey2_review/ZebraFish_Hey2/result/04.callpeak/Hey2Only/Hey2Only_peaks.narrowPeak') %>% \n",
    "                .[,1:3] %>% `colnames<-`(c('seqnames', 'start', 'end')) %>% GRanges\n",
    "Hey2_peaks <- Hey2_peaks[ grepl('chr[^_M]+$', seqnames(Hey2_peaks)) ]\n",
    "seqlevels(Hey2_peaks) = unique(as.vector( seqnames(Hey2_peaks) ))"
   ]
  },
  {
   "cell_type": "code",
   "execution_count": null,
   "id": "b96d6988-84e7-4c27-8bfa-e538f542a25f",
   "metadata": {},
   "outputs": [],
   "source": [
    "mtx_bs500_filt <- mtx_bs500[rowSums(mtx_bs500[,-1:-3])>0,]\n",
    "mtx_bs500_filt_GR <- mtx_bs500_filt %$% \n",
    "        GRanges(seqnames=chr, ranges=IRanges(start=start, end=end), CTL1=CTL1, CTL2=CTL2, OE1=OE1, OE2=OE2)\n",
    "mtx_bs500_filt_GR %<>% {.[grepl('chr[^_]+$' ,seqnames(.))]}\n",
    "seqlevels(mtx_bs500_filt_GR) = unique(as.vector( seqnames(mtx_bs500_filt_GR) ))\n",
    "to_drop = findOverlaps(query=mtx_bs500_filt_GR, subject=Hey2_peaks) %>% queryHits\n",
    "mtx_bs500_filt_GR %<>% .[-to_drop,]\n",
    "mtx_bs500_filt_GR_sample = mtx_bs500_filt_GR %>% {.[sample(length(.), 15000)]}"
   ]
  },
  {
   "cell_type": "code",
   "execution_count": null,
   "id": "9ebdd974-8d13-45b9-bd1c-a887b538f4a8",
   "metadata": {},
   "outputs": [],
   "source": [
    "df_nopeak <- data.frame(\n",
    "  CTL = (mtx_bs500_filt_GR_sample$CTL1 + mtx_bs500_filt_GR_sample$CTL2)/2,\n",
    "  OE = (mtx_bs500_filt_GR_sample$OE1 + mtx_bs500_filt_GR_sample$OE2)/2\n",
    ")\n",
    "df_nopeak %<>% melt(value.name = 'rpkm')\n",
    "colnames(df_nopeak) <- c('group', 'rpkm')"
   ]
  },
  {
   "cell_type": "markdown",
   "id": "24d597da-954c-403e-9c0c-594e622b6d02",
   "metadata": {},
   "source": [
    "- peak regions\n",
    "\n",
    "```bash\n",
    "mkdir -p /rad/wuc/project/Hey2_review/ATAC_zebrafish/peaks\n",
    "\n",
    "multiBigwigSummary BED-file -p 48 \\\n",
    "--bwfiles /rad/wuc/project/Hey2_review/ATAC_zebrafish/ATAC_bw/*.bw \\\n",
    "--BED /rad/wuc/project/Hey2_review/ZebraFish_Hey2/result/04.callpeak/Hey2Only/Hey2Only_peaks.narrowPeak \\\n",
    "--outFileName /rad/wuc/project/Hey2_review/ATAC_zebrafish/peaks/Hey2OE_atac_hey2Peaks.npz \\\n",
    "--outRawCounts /rad/wuc/project/Hey2_review/ATAC_zebrafish/peaks/Hey2OE_atac_hey2Peaks.tab\n",
    "```"
   ]
  },
  {
   "cell_type": "code",
   "execution_count": null,
   "id": "c9e2c0bb-b3c1-4e4f-b072-869731de8377",
   "metadata": {},
   "outputs": [],
   "source": [
    "mtx_hey2Peaks <- read.table('/rad/wuc/project/Hey2_review/ATAC_zebrafish/peaks//Hey2OE_atac_hey2Peaks.tab')\n",
    "colnames(mtx_hey2Peaks) <- c('chr', 'start', 'end', 'CTL1', 'CTL2', 'OE1', 'OE2')"
   ]
  },
  {
   "cell_type": "code",
   "execution_count": null,
   "id": "cffc158b-d11a-4011-9f67-72dc13649e91",
   "metadata": {},
   "outputs": [],
   "source": [
    "mtx_hey2Peaks %>% head"
   ]
  },
  {
   "cell_type": "code",
   "execution_count": null,
   "id": "e9b711d7-1806-4434-bfcd-a95b30817b1e",
   "metadata": {},
   "outputs": [],
   "source": [
    "mtx_hey2Peaks_GR <- mtx_hey2Peaks %$% \n",
    "        GRanges(seqnames=chr, ranges=IRanges(start=start, end=end), \n",
    "                CTL1=CTL1, CTL2=CTL2, OE1=OE1, OE2=OE2)\n",
    "mtx_hey2Peaks_GR %<>% {.[grepl('chr[^_]+$' ,seqnames(.))]}"
   ]
  },
  {
   "cell_type": "code",
   "execution_count": null,
   "id": "b2b9b4f2-f8ca-47bb-a726-175399cb33ef",
   "metadata": {},
   "outputs": [],
   "source": [
    "df_peaks <- data.frame(\n",
    "  CTL = (mtx_hey2Peaks_GR$CTL1 + mtx_hey2Peaks_GR$CTL2)/2,\n",
    "  OE = (mtx_hey2Peaks_GR$OE1 + mtx_hey2Peaks_GR$OE2)/2\n",
    ")"
   ]
  },
  {
   "cell_type": "code",
   "execution_count": null,
   "id": "8445e161-1cdf-42ff-9192-5cd1608db27f",
   "metadata": {},
   "outputs": [],
   "source": [
    "df_peaks %<>% melt(value.name = 'rpkm')\n",
    "colnames(df_peaks) <- c('group', 'rpkm')"
   ]
  },
  {
   "cell_type": "code",
   "execution_count": null,
   "id": "debbbd12-ccf0-4a7a-9c10-6e34b2076e35",
   "metadata": {},
   "outputs": [],
   "source": [
    "df_peaks$region = 'peaks'\n",
    "df_nopeak$region = 'Non-peaks'\n",
    "df_plot <- rbind(df_peaks, df_nopeak)\n",
    "df_plot$rpkm_log = log10(df_plot$rpkm+1)"
   ]
  },
  {
   "cell_type": "markdown",
   "id": "a53aeff6-e7af-466d-89ac-0d8fd968284a",
   "metadata": {
    "jp-MarkdownHeadingCollapsed": true
   },
   "source": [
    "### plot"
   ]
  },
  {
   "cell_type": "code",
   "execution_count": null,
   "id": "51ad911f-0e44-42a6-bee3-d1dae3ba4bb2",
   "metadata": {},
   "outputs": [],
   "source": [
    "figsize(4,4)\n",
    "p1<-ggplot(df_plot, mapping=aes(x=region, y=rpkm_log, fill=group)) + \n",
    "  geom_boxplot(position = position_dodge(0.6), width=0.5, outlier.shape=NA)+\n",
    "  scale_fill_manual(values = c(\"#56B4E9\", \"#E69F00\"))+ \n",
    "  # stat_compare_means(\n",
    "  #   mapping=aes(group=group), \n",
    "  #   method = \"wilcox.test\",\n",
    "  #   paired=T,\n",
    "  #   label = \"p.format\",\n",
    "  #   size = 4\n",
    "  # ) +\n",
    "  theme_bw()+ #背景变为白色\n",
    "  theme(axis.text.x=element_text(colour=\"black\",size=14), \n",
    "        axis.text.y=element_text(size=14,face=\"plain\"), \n",
    "        axis.title.y=element_text(size = 16,face=\"plain\"), \n",
    "        panel.border = element_blank(),\n",
    "        axis.line = element_line(colour = \"black\",linewidth=0.5), \n",
    "        legend.text=element_text(face=\"italic\",  colour=\"black\", \n",
    "                                 size=14),\n",
    "        legend.title=element_blank(),\n",
    "        panel.grid.major = element_blank(),   \n",
    "        panel.grid.minor = element_blank())+  \n",
    "  ylab(TeX(\"$ATAC~signal~~log_{10}(RPKM+1)$\"))+ xlab(\"\")\n",
    "p1\n",
    "# ggsave(filename='ATAC_signal_zebrafish/Zebrafish_ATAC_signal_Hey2BindingVar.png', width=4, height=4)"
   ]
  },
  {
   "cell_type": "code",
   "execution_count": null,
   "id": "ebaee768-8fa5-4cf3-84c2-7debe2d85277",
   "metadata": {},
   "outputs": [],
   "source": [
    "svg('Zebrafish_ATAC_OE-CTL.svg', width=4, height=4)\n",
    "p1\n",
    "dev.off()"
   ]
  },
  {
   "cell_type": "code",
   "execution_count": null,
   "id": "4c03bc02-bd74-4654-84e2-337163fe825a",
   "metadata": {},
   "outputs": [],
   "source": [
    "df_plot %>% write.csv('Zebrafish_ATAC_OE-CTL.csv', row.names=FALSE)"
   ]
  },
  {
   "cell_type": "markdown",
   "id": "214d9469-2d98-4caf-bbf9-34bc5618389f",
   "metadata": {
    "jp-MarkdownHeadingCollapsed": true
   },
   "source": [
    "### 显著性计算（配对检验）"
   ]
  },
  {
   "cell_type": "code",
   "execution_count": null,
   "id": "82046374-2cd9-4ff6-bfcc-ddb5f620ffad",
   "metadata": {},
   "outputs": [],
   "source": [
    "df_peaks <- data.frame(\n",
    "  CTL = (mtx_hey2Peaks_GR$CTL1 + mtx_hey2Peaks_GR$CTL2)/2,\n",
    "  OE = (mtx_hey2Peaks_GR$OE1 + mtx_hey2Peaks_GR$OE2)/2\n",
    ")\n",
    "df_peaks$CTL = log10(df_peaks$CTL+1)\n",
    "df_peaks$OE = log10(df_peaks$OE+1)"
   ]
  },
  {
   "cell_type": "code",
   "execution_count": null,
   "id": "b854b186-b790-4b19-bfb1-6871691c448f",
   "metadata": {
    "jupyter": {
     "source_hidden": true
    }
   },
   "outputs": [],
   "source": [
    "shapiro.test(  (df_peaks$OE - df_peaks$CTL) %>% sample(5000))\n",
    "figsize(8,4)\n",
    "ggarrange(\n",
    "  gghistogram(df_peaks$OE - df_peaks$CTL, bins=50),\n",
    "  ggqqplot(df_peaks$OE-df_peaks$CTL)\n",
    ")"
   ]
  },
  {
   "cell_type": "code",
   "execution_count": null,
   "id": "1fda7f89-043f-4d50-9542-24c9befca3b8",
   "metadata": {
    "jupyter": {
     "source_hidden": true
    }
   },
   "outputs": [],
   "source": [
    "test = wilcox.test(df_peaks$CTL, df_peaks$OE, paired=T)\n",
    "test\n",
    "test$p.value"
   ]
  },
  {
   "cell_type": "code",
   "execution_count": null,
   "id": "d6691e4e-bf40-44bc-97db-92ae4d921af8",
   "metadata": {
    "jupyter": {
     "source_hidden": true
    }
   },
   "outputs": [],
   "source": [
    "df_notpeaks <- data.frame(\n",
    "  CTL = (mtx_bs500_filt_GR_sample$CTL1 + mtx_bs500_filt_GR_sample$CTL2)/2,\n",
    "  OE = (mtx_bs500_filt_GR_sample$OE1 + mtx_bs500_filt_GR_sample$OE2)/2\n",
    ")\n",
    "df_notpeaks$CTL = log10(df_notpeaks$CTL+1)\n",
    "df_notpeaks$OE = log10(df_notpeaks$OE+1)"
   ]
  },
  {
   "cell_type": "code",
   "execution_count": null,
   "id": "e6c3ec5c-05fc-4f34-a6a0-263776ad5cd0",
   "metadata": {
    "jupyter": {
     "source_hidden": true
    }
   },
   "outputs": [],
   "source": [
    "shapiro.test(  (df_notpeaks$OE - df_notpeaks$CTL) %>% sample(5000))\n",
    "figsize(8,4)\n",
    "ggarrange(\n",
    "  gghistogram(df_notpeaks$OE - df_notpeaks$CTL, bins=50),\n",
    "  ggqqplot(df_notpeaks$OE-df_notpeaks$CTL)\n",
    ")"
   ]
  },
  {
   "cell_type": "code",
   "execution_count": null,
   "id": "985c974a-69b3-4e8a-bc18-2f88162fb139",
   "metadata": {
    "jupyter": {
     "source_hidden": true
    }
   },
   "outputs": [],
   "source": [
    "test = wilcox.test(df_notpeaks$CTL, df_notpeaks$OE, paired=T)\n",
    "test\n",
    "test$p.value"
   ]
  },
  {
   "attachments": {},
   "cell_type": "markdown",
   "id": "656e3532-c64f-4c75-a0b5-91f4c1aea9ef",
   "metadata": {
    "jp-MarkdownHeadingCollapsed": true
   },
   "source": [
    "## NRVM: H3K9ac/H3K27ac, Hey2-OE vs. CTL"
   ]
  },
  {
   "cell_type": "markdown",
   "id": "642b4f7b-6ebe-4f41-9d81-57fd92952b72",
   "metadata": {},
   "source": [
    "```bash\n",
    "# mkdir -p /rad/wuc/project/Hey2_review/Hey2_K9.27_ChIP/result/analysis/sample_corr\n",
    "\n",
    "multiBigwigSummary bins -p 96 \\\n",
    "--bwfiles /rad/wuc/project/Hey2_review/Hey2_K9.27_ChIP/result/03.align/bw/HEY2*.bw \\\n",
    "/rad/wuc/project/Hey2_review/Hey2_K9.27_ChIP/result/03.align/bw/CTL*.bw \\\n",
    "--outFileName /rad/wuc/project/Hey2_review/Hey2_K9.27_ChIP/result/analysis/sample_corr/bins_bs500.npz \\\n",
    "--outRawCounts /rad/wuc/project/Hey2_review/Hey2_K9.27_ChIP/result/analysis/sample_corr/bins_bs500_rawCounts.tab \\\n",
    "-bs 500\n",
    "\n",
    "multiBigwigSummary BED-file -p 96 \\\n",
    "--bwfiles /rad/wuc/project/Hey2_review/Hey2_K9.27_ChIP/result/03.align/bw/HEY2*.bw \\\n",
    "/rad/wuc/project/Hey2_review/Hey2_K9.27_ChIP/result/03.align/bw/CTL*.bw \\\n",
    "--BED /rad/wuc/project/Hey2_review/Hey2_K9.27_ChIP/result/04.callpeak/HEY2-Flag/HEY2-Flag_peaks.narrowPeak \\\n",
    "--outFileName /rad/wuc/project/Hey2_review/Hey2_K9.27_ChIP/result/analysis/sample_corr/HEY2-Flag_peaks.npz \\\n",
    "--outRawCounts /rad/wuc/project/Hey2_review/Hey2_K9.27_ChIP/result/analysis/sample_corr/HEY2-Flag_peaks_rawCounts.tab \\\n",
    "-bs 10\n",
    "```"
   ]
  },
  {
   "cell_type": "code",
   "execution_count": 4,
   "id": "6fc95083-f1e4-4f39-8744-12a47d468b0a",
   "metadata": {},
   "outputs": [],
   "source": [
    "mtx_peaks <- read.table('/rad/wuc/project/Hey2_review/Hey2_K9.27_ChIP/result/analysis/sample_corr/HEY2-Flag_peaks_rawCounts.tab')\n",
    "colnames(mtx_peaks) <- c('chr','start','end','HEY2-Flag-1','HEY2-Flag-2','HEY2-K27-1','HEY2-K27-2','HEY2-K9-1','HEY2-K9-2','CTL-Flag-1','CTL-Flag-2','CTL-K27-1','CTL-K27-2','CTL-K9-1','CTL-K9-2')\n",
    "mtx_peaks_GR <- mtx_peaks %$% GRanges(seqnames=chr, ranges=IRanges(start=start, end=end))"
   ]
  },
  {
   "cell_type": "code",
   "execution_count": 5,
   "id": "54a991cb-a7e1-4b15-8110-e49a007b292b",
   "metadata": {},
   "outputs": [
    {
     "name": "stderr",
     "output_type": "stream",
     "text": [
      "No id variables; using all as measure variables\n",
      "\n",
      "No id variables; using all as measure variables\n",
      "\n"
     ]
    }
   ],
   "source": [
    "df_K9_pks <- data.frame(\n",
    "  'Adv-Ctl' = (mtx_peaks$`CTL-K9-1` + mtx_peaks$`CTL-K9-2`)/2,\n",
    "  'Adv-Hey2' = (mtx_peaks$`HEY2-K9-1` + mtx_peaks$`HEY2-K9-2`)/2\n",
    ")\n",
    "df_K9_pks %<>% melt(value.name = 'rpkm')\n",
    "colnames(df_K9_pks) <- c('group', 'rpkm')\n",
    "df_K9_pks$group %<>% str_replace('\\\\.', '-')\n",
    "df_K9_pks$rpkm_log = log10(df_K9_pks$rpkm+1)\n",
    "\n",
    "df_K27_pks <- data.frame(\n",
    "  'Adv-Ctl' = (mtx_peaks$`CTL-K9-1` + mtx_peaks$`CTL-K9-2`)/2,\n",
    "  'Adv-Hey2' = (mtx_peaks$`HEY2-K9-1` + mtx_peaks$`HEY2-K9-2`)/2\n",
    ")\n",
    "df_K27_pks %<>% melt(value.name = 'rpkm')\n",
    "colnames(df_K27_pks) <- c('group', 'rpkm')\n",
    "df_K27_pks$group %<>% str_replace('\\\\.', '-')\n",
    "df_K27_pks$rpkm_log = log10(df_K27_pks$rpkm+1)"
   ]
  },
  {
   "cell_type": "code",
   "execution_count": 6,
   "id": "06f93fb8-51bc-4d6a-8d64-8c44626b2533",
   "metadata": {},
   "outputs": [],
   "source": [
    "hey2_pks <- read.table(\"/rad/wuc/project/Hey2_review/Hey2_K9.27_ChIP/result/04.callpeak/HEY2-Flag/HEY2-Flag_peaks.narrowPeak\") %$% \n",
    "  GRanges(.$V1, IRanges(.$V2, .$V3))"
   ]
  },
  {
   "cell_type": "code",
   "execution_count": 7,
   "id": "4370b7ec-3e1f-4611-b207-3088c2826f4a",
   "metadata": {},
   "outputs": [],
   "source": [
    "mtx_bs500 <- read.table('/rad/wuc/project/Hey2_review/Hey2_K9.27_ChIP/result/analysis/sample_corr/bins_bs500_rawCounts.tab')\n",
    "colnames(mtx_bs500) <- c('chr','start','end','HEY2-Flag-1','HEY2-Flag-2','HEY2-K27-1','HEY2-K27-2','HEY2-K9-1','HEY2-K9-2','CTL-Flag-1','CTL-Flag-2','CTL-K27-1','CTL-K27-2','CTL-K9-1','CTL-K9-2')"
   ]
  },
  {
   "cell_type": "code",
   "execution_count": 8,
   "id": "4e510015-61ee-4172-bafc-7f98587e0b44",
   "metadata": {},
   "outputs": [],
   "source": [
    "mtx_bs500_filt <- mtx_bs500[rowSums(mtx_bs500[,-1:-3])>0,]\n",
    "mtx_bs500_filt_GR <- mtx_bs500_filt %$% GRanges(seqnames=chr, ranges=IRanges(start=start, end=end))\n",
    "to_drop = findOverlaps(query=mtx_bs500_filt_GR, subject=hey2_pks) %>% queryHits\n",
    "mtx_bs500_filt %<>% .[-to_drop,]"
   ]
  },
  {
   "cell_type": "code",
   "execution_count": 107,
   "id": "8f3beb6b-81ef-47bc-901f-b9e05c9a47bf",
   "metadata": {},
   "outputs": [
    {
     "name": "stderr",
     "output_type": "stream",
     "text": [
      "No id variables; using all as measure variables\n",
      "\n"
     ]
    }
   ],
   "source": [
    "df_K9 <- data.frame(\n",
    "  'Adv-Ctl' = (mtx_bs500_filt$`CTL-K9-1` + mtx_bs500_filt$`CTL-K9-2`)/2,\n",
    "  'Adv-Hey2' = (mtx_bs500_filt$`HEY2-K9-1` + mtx_bs500_filt$`HEY2-K9-2`)/2\n",
    ")\n",
    "df_K9 %<>% sample_n(1000)\n",
    "df_K9 %<>% melt(value.name = 'rpkm')\n",
    "colnames(df_K9) <- c('group', 'rpkm')\n",
    "df_K9$group %<>% str_replace('\\\\.', '-')\n",
    "df_K9$rpkm_log = log10(df_K9$rpkm+1)"
   ]
  },
  {
   "cell_type": "code",
   "execution_count": 113,
   "id": "95dde12c-119d-4f92-bd21-d100e174c721",
   "metadata": {},
   "outputs": [
    {
     "name": "stderr",
     "output_type": "stream",
     "text": [
      "No id variables; using all as measure variables\n",
      "\n"
     ]
    }
   ],
   "source": [
    "df_K27 <- data.frame(\n",
    "  'Adv-Ctl' = (mtx_bs500_filt$`CTL-K27-1` + mtx_bs500_filt$`CTL-K27-2`)/2,\n",
    "  'Adv-Hey2' = (mtx_bs500_filt$`HEY2-K27-1` + mtx_bs500_filt$`HEY2-K27-2`)/2\n",
    ")\n",
    "df_K27 %<>% sample_n(1000)\n",
    "df_K27 %<>% melt(value.name = 'rpkm')\n",
    "colnames(df_K27) <- c('group', 'rpkm')\n",
    "df_K27$group %<>% str_replace('\\\\.', '-')\n",
    "df_K27$rpkm_log = log10(df_K27$rpkm+1)"
   ]
  },
  {
   "cell_type": "code",
   "execution_count": 114,
   "id": "b95eb8f2-3f10-4735-8d19-5d57d62f96fc",
   "metadata": {},
   "outputs": [],
   "source": [
    "df_K9$regions = 'Non-peaks'\n",
    "df_K27$regions = 'Non-peaks'\n",
    "# hey2vsctl_K9_rpkm$regions = 'Peaks'\n",
    "# hey2vsctl_K27_rpkm$regions = 'Peaks'\n",
    "df_K9_pks$regions = 'Peaks'\n",
    "df_K27_pks$regions = 'Peaks'\n",
    "\n",
    "df_K9_toplot = rbind(df_K9, df_K9_pks)\n",
    "df_K27_toplot = rbind(df_K27, df_K27_pks)\n",
    "df_K9_toplot$regions %<>% factor(levels = c('Non-peaks', 'Peaks'))\n",
    "df_K27_toplot$regions %<>% factor(levels = c('Non-peaks', 'Peaks'))"
   ]
  },
  {
   "cell_type": "code",
   "execution_count": 115,
   "id": "761c5cd1-d88a-4772-a245-f56a207123c7",
   "metadata": {},
   "outputs": [
    {
     "data": {
      "text/plain": [
       "    group                rpkm              rpkm_log           regions     \n",
       " Length:84364       Min.   :    0.000   Min.   :0.0000   Non-peaks: 2000  \n",
       " Class :character   1st Qu.:    8.192   1st Qu.:0.9634   Peaks    :82364  \n",
       " Mode  :character   Median :   17.768   Median :1.2734                    \n",
       "                    Mean   :   28.279   Mean   :1.2442                    \n",
       "                    3rd Qu.:   36.925   3rd Qu.:1.5789                    \n",
       "                    Max.   :10764.865   Max.   :4.0320                    "
      ]
     },
     "metadata": {},
     "output_type": "display_data"
    },
    {
     "data": {
      "text/plain": [
       "    group                rpkm              rpkm_log           regions     \n",
       " Length:84364       Min.   :    0.000   Min.   :0.0000   Non-peaks: 2000  \n",
       " Class :character   1st Qu.:    8.199   1st Qu.:0.9637   Peaks    :82364  \n",
       " Mode  :character   Median :   17.766   Median :1.2734                    \n",
       "                    Mean   :   28.278   Mean   :1.2442                    \n",
       "                    3rd Qu.:   36.923   3rd Qu.:1.5789                    \n",
       "                    Max.   :10764.865   Max.   :4.0320                    "
      ]
     },
     "metadata": {},
     "output_type": "display_data"
    }
   ],
   "source": [
    "df_K9_toplot %>% summary\n",
    "df_K27_toplot %>% summary"
   ]
  },
  {
   "cell_type": "code",
   "execution_count": 116,
   "id": "b96ebb32-34e8-426a-9903-69782a08bc30",
   "metadata": {},
   "outputs": [],
   "source": [
    "library(latex2exp)"
   ]
  },
  {
   "cell_type": "code",
   "execution_count": 117,
   "id": "d69ca168-787d-4733-8926-402f490765fd",
   "metadata": {},
   "outputs": [
    {
     "data": {
      "image/png": "[encoded data removed]",
      "text/plain": [
       "plot without title"
      ]
     },
     "metadata": {
      "image/png": {
       "height": 240,
       "width": 240
      }
     },
     "output_type": "display_data"
    }
   ],
   "source": [
    "p1 <- ggplot(df_K9, mapping=aes(x=regions, y=rpkm_log, fill=group)) + #“fill=”设置填充颜色依据Attribute指定\n",
    "  geom_boxplot(position = position_dodge(0.6), width=0.5, outlier.shape=NA)+\n",
    "  scale_fill_manual(values = c(\"#56B4E9\", \"#E69F00\"))+ #设置填充颜色\n",
    "  stat_compare_means(\n",
    "    mapping=aes(group=group), \n",
    "    method = \"wilcox.test\",\n",
    "    paired=T,\n",
    "    label = \"p.format\",\n",
    "    size = 5,\n",
    "    vjust=0\n",
    "  ) +\n",
    "  theme_bw()+ #背景变为白色\n",
    "  theme(axis.text.x=element_text(colour=\"black\",size=14), #设置x轴刻度标签的字体显示倾斜角度为15度，并向下调整1(hjust = 1)，字体簇为Times大小为20\n",
    "        axis.text.y=element_text(size=14,face=\"plain\"), #设置y轴刻度标签的字体簇，字体大小，字体样式为plain\n",
    "        axis.title.y=element_text(size = 16,face=\"plain\"), #设置y轴标题的字体属性\n",
    "        panel.border = element_blank(),\n",
    "        axis.line = element_line(colour = \"black\",linewidth=0.5), #去除默认填充的灰色，并将x=0轴和y=0轴加粗显示(size=1)\n",
    "        legend.text=element_text(face=\"italic\",  colour=\"black\",  #设置图例的子标题的字体属性\n",
    "                                 size=14),\n",
    "        legend.title=element_blank(),\n",
    "        panel.grid.major = element_blank(),   #不显示网格线\n",
    "        panel.grid.minor = element_blank())+  #不显示网格线\n",
    "  ylab(TeX(\"$H3K9ac~~log_{10}(RPKM+1)$\"))+ xlab(\"\")\n",
    "  # ylim(0,0.8)\n",
    "figsize(4,4)\n",
    "p1"
   ]
  },
  {
   "cell_type": "code",
   "execution_count": null,
   "id": "d08e7afa-999d-4508-8270-f82d02f8b5ff",
   "metadata": {
    "jupyter": {
     "source_hidden": true
    }
   },
   "outputs": [],
   "source": [
    "svg('NRVM_K9_AdvHey2.svg', width=4,height=4)\n",
    "p1 \n",
    "dev.off()\n",
    "df_K9_toplot %>% write.csv('NRVM_K9_AdvHey2.csv', row.names=F)"
   ]
  },
  {
   "cell_type": "code",
   "execution_count": 46,
   "id": "ed36da17-46eb-484f-8999-97aa02cdd2f2",
   "metadata": {},
   "outputs": [
    {
     "data": {
      "image/png": "[encoded data removed]",
      "text/plain": [
       "plot without title"
      ]
     },
     "metadata": {
      "image/png": {
       "height": 240,
       "width": 240
      }
     },
     "output_type": "display_data"
    }
   ],
   "source": [
    "p2 <- ggplot(df_K27, mapping=aes(x=regions, y=rpkm_log, fill=group)) + #“fill=”设置填充颜色依据Attribute指定\n",
    "  geom_boxplot(position = position_dodge(0.6), width=0.5, outlier.shape=NA)+\n",
    "  scale_fill_manual(values = c(\"#56B4E9\", \"#E69F00\"))+ #设置填充颜色\n",
    "  theme_bw()+ #背景变为白色\n",
    "  stat_compare_means(\n",
    "    mapping=aes(group=group), \n",
    "    method = \"wilcox.test\",\n",
    "    paired=T,\n",
    "    label = \"p.format\",\n",
    "    size = 5,\n",
    "    vjust=0\n",
    "  ) +\n",
    "  theme(axis.text.x=element_text(colour=\"black\",size=14), #设置x轴刻度标签的字体显示倾斜角度为15度，并向下调整1(hjust = 1)，字体簇为Times大小为20\n",
    "        axis.text.y=element_text(size=12,face=\"plain\"), #设置y轴刻度标签的字体簇，字体大小，字体样式为plain\n",
    "        axis.title.y=element_text(size = 14,face=\"plain\"), #设置y轴标题的字体属性\n",
    "        panel.border = element_blank(),\n",
    "        axis.line = element_line(colour = \"black\",linewidth=0.5), #去除默认填充的灰色，并将x=0轴和y=0轴加粗显示(size=1)\n",
    "        legend.text=element_text(face=\"italic\",  colour=\"black\",  #设置图例的子标题的字体属性\n",
    "                                 size=12),\n",
    "        legend.title=element_blank(),\n",
    "        panel.grid.major = element_blank(),   #不显示网格线\n",
    "        panel.grid.minor = element_blank())+  #不显示网格线\n",
    "  ylab(TeX(\"$H3K27ac~~log_{10}(RPKM+1)$\"))+ xlab(\"\")\n",
    "  # ylim(c(0,0.8))\n",
    "p2"
   ]
  },
  {
   "cell_type": "code",
   "execution_count": null,
   "id": "8aab5452-91a8-4c7e-b675-9b117e5fdc90",
   "metadata": {
    "jupyter": {
     "source_hidden": true
    }
   },
   "outputs": [],
   "source": [
    "svg('NRVM_K27_AdvHey2.svg', width=4,height=4)\n",
    "p2\n",
    "dev.off()\n",
    "df_K9_toplot %>% write.csv('NRVM_K27_AdvHey2.csv', row.names=F)"
   ]
  },
  {
   "cell_type": "markdown",
   "id": "70397545-d79e-48f0-b8ad-dd077766cbc6",
   "metadata": {},
   "source": [
    "### significance(K9)"
   ]
  },
  {
   "cell_type": "code",
   "execution_count": null,
   "id": "32408907-32e2-4e82-b24e-fa46c97e5a45",
   "metadata": {},
   "outputs": [],
   "source": [
    "df_K9_pks <- data.frame(\n",
    "  'Adv-Ctl' = (mtx_peaks$`CTL-K9-1` + mtx_peaks$`CTL-K9-2`)/2,\n",
    "  'Adv-Hey2' = (mtx_peaks$`HEY2-K9-1` + mtx_peaks$`HEY2-K9-2`)/2\n",
    ")\n",
    "df_K9_pks$Adv.Ctl %<>% {log10(.+1)}\n",
    "df_K9_pks$Adv.Hey2 %<>% {log10(.+1)}\n",
    "df_K9_pks %<>% sample_n(., 20000)"
   ]
  },
  {
   "cell_type": "code",
   "execution_count": null,
   "id": "517dd40d-4367-4d5a-858e-946197762019",
   "metadata": {},
   "outputs": [],
   "source": [
    "figsize(8,4)\n",
    "p <- ggarrange(\n",
    "  gghistogram(df_K9_pks$Adv.Hey2 - df_K9_pks$Adv.Ctl, bins=50),\n",
    "  ggqqplot(df_K9_pks$Adv.Hey2-df_K9_pks$Adv.Ctl)\n",
    ")\n",
    "annotate_figure(\n",
    "  p, top = text_grob(\"peak-region NRVM Adv.Hey2-Adv.Ctl\", \n",
    "  face = \"bold\", size = 14)\n",
    ")\n",
    "shapiro.test(  (df_K9_pks$Adv.Hey2 - df_K9_pks$Adv.Ctl) %>% sample(5000) ) %T>% {print(.$p.value)}\n",
    "wilcox.test(df_K9_pks$Adv.Hey2, df_K9_pks$Adv.Ctl, paired=T) %T>% {print(.$p.value)}"
   ]
  },
  {
   "cell_type": "code",
   "execution_count": null,
   "id": "4fc0b958-071f-4ab5-970d-3b1df467d26e",
   "metadata": {},
   "outputs": [],
   "source": [
    "df_K9 <- data.frame(\n",
    "  'Adv-Ctl' = (mtx_bs500_filt$`CTL-K9-1` + mtx_bs500_filt$`CTL-K9-2`)/2,\n",
    "  'Adv-Hey2' = (mtx_bs500_filt$`HEY2-K9-1` + mtx_bs500_filt$`HEY2-K9-2`)/2\n",
    ")\n",
    "df_K9$Adv.Ctl %<>% {log10(.+1)}\n",
    "df_K9$Adv.Hey2 %<>% {log10(.+1)}\n",
    "df_K9 %<>% sample_n(., 20000)"
   ]
  },
  {
   "cell_type": "code",
   "execution_count": null,
   "id": "22a33a65-2b56-4429-87b8-5e37eca83d3a",
   "metadata": {},
   "outputs": [],
   "source": [
    "figsize(8,4)\n",
    "p <- ggarrange(\n",
    "  gghistogram(df_K9$Adv.Hey2 - df_K9$Adv.Ctl, bins=50),\n",
    "  ggqqplot(df_K9$Adv.Hey2-df_K9$Adv.Ctl)\n",
    ")\n",
    "annotate_figure(\n",
    "  p, top = text_grob(\"notpeak-regions NRVM Adv.Hey2-Adv.Ctl\", \n",
    "  face = \"bold\", size = 14)\n",
    ")\n",
    "shapiro.test(  (df_K9$Adv.Hey2 - df_K9$Adv.Ctl) %>% sample(5000) ) %T>% {print(.$p.value)}\n",
    "wilcox.test(df_K9$Adv.Hey2, df_K9$Adv.Ctl, paired=T) %T>% {print(.$p.value)}"
   ]
  },
  {
   "cell_type": "markdown",
   "id": "efaf5a3b-5216-45f0-9a6c-e072320d8638",
   "metadata": {},
   "source": [
    "### significance(K27)"
   ]
  },
  {
   "cell_type": "code",
   "execution_count": null,
   "id": "d397e221-9f72-4fb1-a48d-cdee056c7769",
   "metadata": {},
   "outputs": [],
   "source": [
    "df_K27 <- data.frame(\n",
    "  'Adv-Ctl' = (mtx_peaks$`CTL-K27-1` + mtx_peaks$`CTL-K27-2`)/2,\n",
    "  'Adv-Hey2' = (mtx_peaks$`HEY2-K27-1` + mtx_peaks$`HEY2-K27-2`)/2\n",
    ")\n",
    "df_K27$Adv.Ctl %<>% {log10(.+1)}\n",
    "df_K27$Adv.Hey2 %<>% {log10(.+1)}"
   ]
  },
  {
   "cell_type": "code",
   "execution_count": null,
   "id": "fac05892-9fba-40c0-9ed3-672b58032e7b",
   "metadata": {},
   "outputs": [],
   "source": [
    "figsize(8,4)\n",
    "p <- ggarrange(\n",
    "  gghistogram(df_K27_pks$Adv.Hey2 - df_K27_pks$Adv.Ctl, bins=50),\n",
    "  ggqqplot(df_K27_pks$Adv.Hey2-df_K27_pks$Adv.Ctl)\n",
    ")\n",
    "annotate_figure(\n",
    "  p, top = text_grob(\"peak-region NRVM Adv.Hey2-Adv.Ctl\", \n",
    "  face = \"bold\", size = 14)\n",
    ")\n",
    "shapiro.test(  (df_K27_pks$Adv.Hey2 - df_K27_pks$Adv.Ctl) %>% sample(5000) ) %T>% {print(.$p.value)}\n",
    "wilcox.test(df_K27_pks$Adv.Hey2, df_K27_pks$Adv.Ctl, paired=T) %T>% {print(.$p.value)}"
   ]
  },
  {
   "cell_type": "code",
   "execution_count": null,
   "id": "4f643b1f-cec6-41d9-bde0-e267def68625",
   "metadata": {},
   "outputs": [],
   "source": [
    "figsize(8,4)\n",
    "p <- ggarrange(\n",
    "  gghistogram(df_K27$Adv.Hey2 - df_K27$Adv.Ctl, bins=50),\n",
    "  ggqqplot(df_K27$Adv.Hey2-df_K27$Adv.Ctl)\n",
    ")\n",
    "annotate_figure(\n",
    "  p, top = text_grob(\"notpeak-regions NRVM Adv.Hey2-Adv.Ctl\", \n",
    "  face = \"bold\", size = 14)\n",
    ")\n",
    "shapiro.test(  (df_K27$Adv.Hey2 - df_K27$Adv.Ctl) %>% sample(5000) ) %T>% {print(.$p.value)}\n",
    "wilcox.test(df_K27$Adv.Hey2, df_K27$Adv.Ctl, paired=T) %T>% {print(.$p.value)}"
   ]
  },
  {
   "cell_type": "code",
   "execution_count": null,
   "id": "c72ce686-de6c-4bd2-b0df-3defd49dc279",
   "metadata": {},
   "outputs": [],
   "source": []
  }
 ],
 "metadata": {
  "kernelspec": {
   "display_name": "R-4.3",
   "language": "R",
   "name": "r-4.3"
  },
  "language_info": {
   "codemirror_mode": "r",
   "file_extension": ".r",
   "mimetype": "text/x-r-source",
   "name": "R",
   "pygments_lexer": "r",
   "version": "4.3.3"
  }
 },
 "nbformat": 4,
 "nbformat_minor": 5
}
